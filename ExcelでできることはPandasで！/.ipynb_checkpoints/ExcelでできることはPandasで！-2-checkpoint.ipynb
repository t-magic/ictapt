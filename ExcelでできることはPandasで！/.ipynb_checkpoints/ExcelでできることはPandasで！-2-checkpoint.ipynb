{
 "cells": [
  {
   "cell_type": "markdown",
   "metadata": {},
   "source": [
    "### ExcelでできることはPandasで！(2)\n",
    "* ExcelからPandasへ-2"
   ]
  },
  {
   "cell_type": "markdown",
   "metadata": {},
   "source": [
    "11. PRODUCT関数、QUOTIENT関数で掛け算、割り算をする\n",
    "12. ROUNDDOWN関数、ROUNDUP関数、ROUND関数で切り捨て、切り上げ、四捨五入をする\n",
    "13. DATE関数、TEXT関数で日付、曜日を表示する\n",
    "14. DATEDIF関数で満年齢を求める\n",
    "15. COUNT関数、COUNTIF関数でセルの数をカウントする\n",
    "16. IF関数で複数条件（ORもしくはAND）を指定し、データを抽出する\n"
   ]
  },
  {
   "cell_type": "markdown",
   "metadata": {},
   "source": [
    "### 11. PRODUCT関数、QUOTIENT関数で掛け算、割り算をする\n",
    "Excelで四則演算として掛け算やわり算をする際、「*」や「/」を使用すると思いますが、同じ結果を関数でも計算することができます。\n",
    "\n",
    "![](pict/useful-function14.png)\n",
    "\n",
    "[出典](https://office-hack.com/excel/useful-function/)"
   ]
  },
  {
   "cell_type": "code",
   "execution_count": null,
   "metadata": {},
   "outputs": [],
   "source": [
    "import pandas as pd\n",
    "df = pd.read_excel(\"data/useful-function11.xlsx\")\n",
    "df"
   ]
  },
  {
   "cell_type": "code",
   "execution_count": null,
   "metadata": {},
   "outputs": [],
   "source": [
    "df['合計(積)'] = df['価格'] * df['個数']\n",
    "df"
   ]
  },
  {
   "cell_type": "code",
   "execution_count": null,
   "metadata": {},
   "outputs": [],
   "source": [
    "df[['価格', '個数']]"
   ]
  },
  {
   "cell_type": "markdown",
   "metadata": {},
   "source": [
    "[python - Pandas: Product of specific columns - Stack Overflow](https://stackoverflow.com/questions/21167478/pandas-product-of-specific-columns)"
   ]
  },
  {
   "cell_type": "code",
   "execution_count": null,
   "metadata": {},
   "outputs": [],
   "source": [
    "df[['価格', '個数']].product(axis=1)"
   ]
  },
  {
   "cell_type": "code",
   "execution_count": null,
   "metadata": {},
   "outputs": [],
   "source": [
    "df['合計(積)2'] = df[['価格', '個数']].product(axis=1)\n",
    "df"
   ]
  },
  {
   "cell_type": "markdown",
   "metadata": {},
   "source": [
    "![](pict/useful-function18.png)"
   ]
  },
  {
   "cell_type": "code",
   "execution_count": null,
   "metadata": {},
   "outputs": [],
   "source": [
    "import pandas as pd\n",
    "df = pd.read_excel(\"data/useful-function11.xlsx\")\n",
    "df"
   ]
  },
  {
   "cell_type": "code",
   "execution_count": null,
   "metadata": {},
   "outputs": [],
   "source": [
    "df['価格'] / df['個数']"
   ]
  },
  {
   "cell_type": "code",
   "execution_count": null,
   "metadata": {},
   "outputs": [],
   "source": [
    "df['1つあたりの価格(商)'] = df['価格'] / df['個数']\n",
    "df"
   ]
  },
  {
   "cell_type": "code",
   "execution_count": null,
   "metadata": {},
   "outputs": [],
   "source": [
    "df['1つあたりの価格(商)'] = df['価格'] / df['個数']\n",
    "df"
   ]
  },
  {
   "cell_type": "code",
   "execution_count": null,
   "metadata": {},
   "outputs": [],
   "source": [
    "df['1つあたりの価格(商)'] = (df['価格'] / df['個数']).round(0)\n",
    "df"
   ]
  },
  {
   "cell_type": "markdown",
   "metadata": {},
   "source": [
    "### 12. ROUNDDOWN関数、ROUNDUP関数、ROUND関数で切り捨て、切り上げ、四捨五入をする\n",
    "\n",
    "数値の計算でよく使うものとして切り捨て、切り上げ、四捨五入があります。それぞれ便利な関数がありますのでご紹介します。\n",
    "\n",
    "![](pict/useful-function27.png)\n",
    "\n",
    "[出典](https://office-hack.com/excel/useful-function/)"
   ]
  },
  {
   "cell_type": "code",
   "execution_count": null,
   "metadata": {},
   "outputs": [],
   "source": [
    "import pandas as pd\n",
    "df = pd.read_excel(\"data/useful-function11.xlsx\")\n",
    "df"
   ]
  },
  {
   "cell_type": "code",
   "execution_count": null,
   "metadata": {},
   "outputs": [],
   "source": [
    "df = pd.read_excel(\"data/useful-function11.xlsx\").drop(columns = ['個数'])\n",
    "df"
   ]
  },
  {
   "cell_type": "code",
   "execution_count": null,
   "metadata": {},
   "outputs": [],
   "source": [
    "df['価格'].mean()"
   ]
  },
  {
   "cell_type": "code",
   "execution_count": null,
   "metadata": {},
   "outputs": [],
   "source": [
    "import math\n",
    "math.floor(df['価格'].mean())"
   ]
  },
  {
   "cell_type": "code",
   "execution_count": null,
   "metadata": {},
   "outputs": [],
   "source": [
    "math.ceil(df['価格'].mean())"
   ]
  },
  {
   "cell_type": "markdown",
   "metadata": {},
   "source": [
    "### 13. DATE関数、TEXT関数で日付、曜日を表示する\n",
    "日付を関数で表示するためにはDATE関数を使用します。DATE関数は特定の日付を表す連続したシリアル値を返す関数です。\n",
    "\n",
    "曜日はTEXT関数を使って表示します。TEXT関数を使えば、数値を自分が指定した書式の文字列に変換することができます。\n",
    "\n",
    "![](pict/useful-function32.png)\n",
    "\n",
    "[出典](https://office-hack.com/excel/useful-function/)"
   ]
  },
  {
   "cell_type": "code",
   "execution_count": null,
   "metadata": {},
   "outputs": [],
   "source": [
    "import pandas as pd\n",
    "df = pd.read_excel(\"data/生年月日.xlsx\")\n",
    "df"
   ]
  },
  {
   "cell_type": "code",
   "execution_count": null,
   "metadata": {},
   "outputs": [],
   "source": [
    "pd.to_datetime((df['年']*10000+df['月']*100+df['日']).apply(str))"
   ]
  },
  {
   "cell_type": "code",
   "execution_count": null,
   "metadata": {},
   "outputs": [],
   "source": [
    "df['年']*10000+df['月']*100+df['日']"
   ]
  },
  {
   "cell_type": "code",
   "execution_count": null,
   "metadata": {},
   "outputs": [],
   "source": [
    "(df['年']*10000+df['月']*100+df['日']).dtype"
   ]
  },
  {
   "cell_type": "code",
   "execution_count": null,
   "metadata": {},
   "outputs": [],
   "source": [
    "pd.to_datetime((df['年']*10000+df['月']*100+df['日']))"
   ]
  },
  {
   "cell_type": "code",
   "execution_count": null,
   "metadata": {},
   "outputs": [],
   "source": [
    "(df['年']*10000+df['月']*100+df['日']).apply(str)"
   ]
  },
  {
   "cell_type": "code",
   "execution_count": null,
   "metadata": {},
   "outputs": [],
   "source": [
    "(df['年']*10000+df['月']*100+df['日']).apply(str).dtype"
   ]
  },
  {
   "cell_type": "code",
   "execution_count": null,
   "metadata": {},
   "outputs": [],
   "source": [
    "pd.to_datetime((df['年']*10000+df['月']*100+df['日']).apply(str))"
   ]
  },
  {
   "cell_type": "code",
   "execution_count": null,
   "metadata": {},
   "outputs": [],
   "source": [
    "pd.to_datetime((df['年']*10000+df['月']*100+df['日']).apply(str)).dtype"
   ]
  },
  {
   "cell_type": "code",
   "execution_count": null,
   "metadata": {},
   "outputs": [],
   "source": [
    "df['生年月日'] = pd.to_datetime((df['年']*10000+df['月']*100+df['日']).apply(str))\n",
    "df"
   ]
  },
  {
   "cell_type": "code",
   "execution_count": null,
   "metadata": {},
   "outputs": [],
   "source": [
    "pd.to_datetime((df['年']*10000+df['月']*100+df['日']).apply(str),format='%Y%m%d')"
   ]
  },
  {
   "cell_type": "markdown",
   "metadata": {},
   "source": [
    "* [Pythonで日付から曜日や月を文字列（日本語や英語など）で取得 | note.nkmk.me](https://note.nkmk.me/python-datetime-day-locale-function/)\n",
    "* [pandasで日付から祝日を含めた曜日を取得する方法 - Qiita](https://qiita.com/gpioblink/items/abccf35b4af3c83c14d3)"
   ]
  },
  {
   "cell_type": "code",
   "execution_count": null,
   "metadata": {},
   "outputs": [],
   "source": [
    "import datetime\n",
    "import locale\n",
    "\n",
    "dt = datetime.datetime(2018, 1, 1)\n",
    "print(dt)\n",
    "# 2018-01-01 00:00:00\n",
    "\n",
    "print(dt.strftime('%A, %a, %B, %b'))\n",
    "# Monday, Mon, January, Jan\n",
    "\n",
    "#locale.setlocale(locale.LC_TIME, 'ja-JP')\n",
    "locale.setlocale(locale.LC_ALL, '')\n",
    "print(locale.getlocale(locale.LC_TIME))\n",
    "\n",
    "\n",
    "print(dt.strftime('%A, %a, %B, %b'))\n",
    "# 月曜日, 月, 1月,  1"
   ]
  },
  {
   "cell_type": "markdown",
   "metadata": {},
   "source": [
    "[pandas.Series.dt.day_name — pandas 0.25.2 documentation](https://pandas.pydata.org/pandas-docs/stable/reference/api/pandas.Series.dt.day_name.html#pandas.Series.dt.day_name)"
   ]
  },
  {
   "cell_type": "code",
   "execution_count": null,
   "metadata": {},
   "outputs": [],
   "source": [
    "idx = pd.date_range(start='2018-01-01', freq='D', periods=3)\n",
    "idx"
   ]
  },
  {
   "cell_type": "code",
   "execution_count": null,
   "metadata": {},
   "outputs": [],
   "source": [
    "type(idx)"
   ]
  },
  {
   "cell_type": "code",
   "execution_count": null,
   "metadata": {},
   "outputs": [],
   "source": [
    "idx.day_name()"
   ]
  },
  {
   "cell_type": "markdown",
   "metadata": {},
   "source": [
    "* [pandasで時系列データの曜日や月、四半期、年ごとの合計や平均を算出 | note.nkmk.me](https://note.nkmk.me/python-pandas-time-series-multiindex/)\n",
    "* [PandasでSeries.dt()を使って日付を変換する方法 - Qiita](https://qiita.com/Takemura-T/items/79b16313e45576bb6492)"
   ]
  },
  {
   "cell_type": "code",
   "execution_count": null,
   "metadata": {},
   "outputs": [],
   "source": [
    "pd.to_datetime((df['年']*10000+df['月']*100+df['日']).apply(str)).dt.dayofweek"
   ]
  },
  {
   "cell_type": "markdown",
   "metadata": {},
   "source": [
    "### 14. DATEDIF関数で満年齢を求める\n",
    "満年齢を求める時はDATEDIF関数を使用します。DATEDIF関数は、2つの日付の間隔をさまざまな単位で計算できます。\n",
    "\n",
    "![](pict/useful-function35.png)\n",
    "\n",
    "[出典](https://office-hack.com/excel/useful-function/)"
   ]
  },
  {
   "cell_type": "code",
   "execution_count": null,
   "metadata": {},
   "outputs": [],
   "source": [
    "import pandas as pd\n",
    "df = pd.read_excel(\"data/生年月日.xlsx\")\n",
    "df"
   ]
  },
  {
   "cell_type": "code",
   "execution_count": null,
   "metadata": {},
   "outputs": [],
   "source": [
    "df['年']"
   ]
  },
  {
   "cell_type": "code",
   "execution_count": null,
   "metadata": {},
   "outputs": [],
   "source": [
    "df['生年月日'] = pd.to_datetime((df['年']*10000+df['月']*100+df['日']).apply(str))\n",
    "df"
   ]
  },
  {
   "cell_type": "markdown",
   "metadata": {},
   "source": [
    "* [python - Pandas calculating age from a date - Stack Overflow](https://stackoverflow.com/questions/26897098/pandas-calculating-age-from-a-date/26897242)\n",
    "* [Pythonのdatetimeで日付や時間と文字列を変換（strftime, strptime） | note.nkmk.me](https://note.nkmk.me/python-datetime-usage/)"
   ]
  },
  {
   "cell_type": "code",
   "execution_count": null,
   "metadata": {},
   "outputs": [],
   "source": [
    "import datetime\n",
    "dt_now = datetime.datetime.now()\n",
    "df['満年齢'] = ''\n",
    "for index, row in df.iterrows():\n",
    "    #datetime.datetime.strptime(row['生年月日'], \"%m%d%Y\")\n",
    "    df['満年齢'][index] = dt_now - row['生年月日']\n",
    "    print(dt_now - row['生年月日'])\n",
    "df"
   ]
  },
  {
   "cell_type": "markdown",
   "metadata": {},
   "source": [
    "[python - How do I get an age in years and date on pandas - Stack Overflow](https://stackoverflow.com/questions/51491893/how-do-i-get-an-age-in-years-and-date-on-pandas)"
   ]
  },
  {
   "cell_type": "code",
   "execution_count": null,
   "metadata": {},
   "outputs": [],
   "source": [
    "from dateutil.relativedelta import relativedelta\n",
    "\n",
    "def f(end):\n",
    "    r = relativedelta(pd.to_datetime('now'), end) \n",
    "    #return '{} years {} days'.format(r.years, r.days)\n",
    "    return f'満{r.years}歳'\n",
    "\n",
    "df['満年齢'] = df[\"生年月日\"].apply(f)\n",
    "df"
   ]
  },
  {
   "cell_type": "markdown",
   "metadata": {},
   "source": [
    "### 15. COUNT関数、COUNTIF関数でセルの数をカウントする\n",
    "\n",
    "\n",
    "![](pict/.png)\n",
    "\n",
    "[出典](https://office-hack.com/excel/useful-function/)"
   ]
  },
  {
   "cell_type": "markdown",
   "metadata": {},
   "source": [
    "###  INDIRECT関数でセルや他のシートを参照する\n",
    "\n",
    "\n",
    "![](pict/.png)\n",
    "\n",
    "[出典](https://office-hack.com/excel/useful-function/)"
   ]
  },
  {
   "cell_type": "markdown",
   "metadata": {},
   "source": [
    "### 16. IF関数で複数条件（ORもしくはAND）を指定し、データを抽出する\n",
    "IF関数は条件を満たす場合と満たさない場合で処理を分けたいときに使用します。関数の中でもよく使用される関数の1つであり、他の関数と組み合わせて使ったりします。\n",
    "\n",
    "IF関数の条件は単一のものだけでなくOR関数やAND関数を組み合わせることで複数条件を指定できます。\n",
    "\n",
    "![](pict/useful-function53.png)\n",
    "\n",
    "[出典](https://office-hack.com/excel/useful-function/)"
   ]
  },
  {
   "cell_type": "markdown",
   "metadata": {},
   "source": [
    "[pandasでExcelファイル（xlsx, xls）の読み込み（read_excel） | note.nkmk.me](https://note.nkmk.me/python-pandas-read-excel/)"
   ]
  },
  {
   "cell_type": "code",
   "execution_count": null,
   "metadata": {},
   "outputs": [],
   "source": [
    "import pandas as pd\n",
    "df = pd.read_excel(\"data/useful-function53.xlsx\")\n",
    "df"
   ]
  },
  {
   "cell_type": "code",
   "execution_count": null,
   "metadata": {},
   "outputs": [],
   "source": [
    "df = pd.read_excel(\"data/useful-function53.xlsx\", index_col=0)\n",
    "df"
   ]
  },
  {
   "cell_type": "code",
   "execution_count": null,
   "metadata": {},
   "outputs": [],
   "source": [
    "df['数学もしくは国語が50点以上'] = ''\n",
    "df"
   ]
  },
  {
   "cell_type": "code",
   "execution_count": null,
   "metadata": {},
   "outputs": [],
   "source": [
    "df.loc[df['数学'] >= 50, '数学もしくは国語が50点以上'] = '合格'\n",
    "df"
   ]
  },
  {
   "cell_type": "code",
   "execution_count": null,
   "metadata": {},
   "outputs": [],
   "source": [
    "df.loc[df['国語'] >= 50, '数学もしくは国語が50点以上'] = '合格'\n",
    "df"
   ]
  },
  {
   "cell_type": "code",
   "execution_count": null,
   "metadata": {},
   "outputs": [],
   "source": [
    "df.loc[(df['数学'] >= 50) | (df['国語'] >= 50), '数学もしくは国語が50点以上'] = '合格'\n",
    "df"
   ]
  },
  {
   "cell_type": "code",
   "execution_count": null,
   "metadata": {},
   "outputs": [],
   "source": [
    "df.loc[(df['数学'] >= 50) | (df['国語'] >= 50), '数学もしくは国語が50点以上'] = '合格'\n",
    "df"
   ]
  },
  {
   "cell_type": "markdown",
   "metadata": {},
   "source": [
    "![](pict/useful-function56.png)"
   ]
  },
  {
   "cell_type": "code",
   "execution_count": null,
   "metadata": {},
   "outputs": [],
   "source": [
    "import pandas as pd\n",
    "df = pd.read_excel(\"data/useful-function53.xlsx\", index_col=0)\n",
    "df"
   ]
  },
  {
   "cell_type": "code",
   "execution_count": null,
   "metadata": {},
   "outputs": [],
   "source": [
    "df['すべてが50点以上'] = ''\n",
    "df"
   ]
  },
  {
   "cell_type": "code",
   "execution_count": null,
   "metadata": {},
   "outputs": [],
   "source": [
    "df.loc[(df['数学'] >= 50) & (df['国語'] >= 50) & (df['英語'] >= 50), 'すべてが50点以上'] = '合格'\n",
    "df"
   ]
  },
  {
   "cell_type": "raw",
   "metadata": {},
   "source": [
    "### 18. VLOOKUP関数で複数条件に一致したデータを検索し、抽出する\n",
    "VLOOKUP関数は指定した範囲の中から検索条件に一致したデータを検索して取り出してくれる関数です。データを検索する関数の中では最も有名な関数です。\n",
    "\n",
    "数式としては、何を（検索値）、どこから（範囲）、どの列か（列番号）を引数として指定していきます。\n",
    "\n",
    "大量のデータを手入力をしていた作業もVLOOKUP関数を使えば、自動的にデータを入力してくれるので作業時間の短縮にぜひ使ってみましょう。\n",
    "\n",
    "![](pict/.png)\n",
    "\n",
    "[出典](https://office-hack.com/excel/useful-function/)"
   ]
  },
  {
   "cell_type": "markdown",
   "metadata": {},
   "source": [
    "11. 掛け算、割り算をする\n",
    "12. 切り捨て、切り上げ、四捨五入をする\n",
    "13. 日付、曜日を表示する\n",
    "14. 満年齢を求める\n",
    "15. セルの数をカウントする\n",
    "16. 複数条件（ORもしくはAND）を指定し、データを抽出する"
   ]
  }
 ],
 "metadata": {
  "kernelspec": {
   "display_name": "Python 3",
   "language": "python",
   "name": "python3"
  },
  "language_info": {
   "codemirror_mode": {
    "name": "ipython",
    "version": 3
   },
   "file_extension": ".py",
   "mimetype": "text/x-python",
   "name": "python",
   "nbconvert_exporter": "python",
   "pygments_lexer": "ipython3",
   "version": "3.7.3"
  }
 },
 "nbformat": 4,
 "nbformat_minor": 2
}
