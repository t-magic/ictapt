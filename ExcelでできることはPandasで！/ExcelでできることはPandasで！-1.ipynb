{
 "cells": [
  {
   "cell_type": "markdown",
   "metadata": {
    "slideshow": {
     "slide_type": "slide"
    }
   },
   "source": [
    "## ExcelでできることはPandasで！(1)\n",
    "* ExcelからPandasへ"
   ]
  },
  {
   "cell_type": "markdown",
   "metadata": {
    "slideshow": {
     "slide_type": "skip"
    }
   },
   "source": [
    "* 出典\n",
    "   * [【作業効率UP】よく使うExcel(エクセル)関数10選 | TechAcademyマガジン](https://techacademy.jp/magazine/9872#sec2)"
   ]
  },
  {
   "cell_type": "markdown",
   "metadata": {
    "slideshow": {
     "slide_type": "slide"
    }
   },
   "source": [
    "1. 合計を出したいとき【SUM関数】\n",
    "2. 条件に当てはまる数値の合計を出したいとき【SUMIF関数】\n",
    "3. 平均値を出したいとき【AVERAGE関数】\n",
    "4. 小計やオートフィルタを用いて集計したいとき【SUBTOTAL関数】\n",
    "5. 最大値を出したいとき【MAX関数】\n",
    "6. 最小値を出したいとき【MIN関数】"
   ]
  },
  {
   "cell_type": "markdown",
   "metadata": {
    "slideshow": {
     "slide_type": "subslide"
    }
   },
   "source": [
    "7. 条件に当てはまるセルの数を数えたいとき【COUNTIF関数】\n",
    "8. 条件に当てはまるセルを表示させたいとき【VLOOKUP関数】\n",
    "9. 条件によって処理を変えたいとき【IF関数】\n",
    "10. 文字列を繋げたいとき【CONCATENATE関数】"
   ]
  },
  {
   "cell_type": "markdown",
   "metadata": {
    "slideshow": {
     "slide_type": "subslide"
    }
   },
   "source": [
    " * 覚えておきたいExcel関数まとめ"
   ]
  },
  {
   "cell_type": "markdown",
   "metadata": {
    "slideshow": {
     "slide_type": "skip"
    }
   },
   "source": [
    "1. 合計を出したいとき【xxx関数】\n",
    "1. 条件に当てはまる数値の合計を出したいとき【xxx関数】\n",
    "1. 平均値を出したいとき【xxx関数】\n",
    "1. 小計やオートフィルタを用いて集計したいとき【xxx関数】\n",
    "1. 最大値を出したいとき【xxx関数】\n",
    "1. 最小値を出したいとき【xxx関数】\n",
    "1. 条件に当てはまるセルの数を数えたいとき【xxx関数】\n",
    "1. 条件に当てはまるセルを表示させたいとき【xxx関数】\n",
    "1. 条件によって処理を変えたいとき【xxx関数】\n",
    "1. 文字列を繋げたいとき【xxx関数】\n",
    "1. 覚えておきたいPandas関数まとめ"
   ]
  },
  {
   "cell_type": "markdown",
   "metadata": {},
   "source": [
    "### 必要なライブラリーをインストールする"
   ]
  },
  {
   "cell_type": "code",
   "execution_count": null,
   "metadata": {},
   "outputs": [],
   "source": [
    "!sudo -E conda install -c conda-forge pandas -y\n",
    "!sudo -E conda install -c conda-forge openpyxl -y"
   ]
  },
  {
   "cell_type": "markdown",
   "metadata": {
    "slideshow": {
     "slide_type": "slide"
    }
   },
   "source": [
    "### 1. 合計を出したいとき【SUM関数】\n",
    "Excel をまだあまり使ったことがない方も、おそらく一度は目にしたことがあるのではないでしょうか？\n",
    "\n",
    "SUM関数は、指定した範囲内の数値の合計を求める関数です。\n",
    "= の後に SUM と入力し、その後の引数部分には (範囲内の最初のセル:最後のセル) を入力します。\n",
    "\n",
    "例えば、B2 から B5 までの数値の合計を B6 に入力したいときは、\n",
    "\n",
    "> ＝SUM(B2:B5)\n",
    "\n",
    "という数式を B6 に入力します。\n",
    "\n",
    "![](pict/SUM-1.png)\n",
    "\n",
    "[出典](https://techacademy.jp/magazine/9872#sec1)"
   ]
  },
  {
   "cell_type": "code",
   "execution_count": null,
   "metadata": {
    "slideshow": {
     "slide_type": "subslide"
    }
   },
   "outputs": [],
   "source": [
    "import pandas as pd\n",
    "df = pd.read_excel(\"data/SUM-1.xlsx\", engine='openpyxl')\n",
    "df"
   ]
  },
  {
   "cell_type": "code",
   "execution_count": null,
   "metadata": {
    "slideshow": {
     "slide_type": "subslide"
    }
   },
   "outputs": [],
   "source": [
    "df['点数'].sum()"
   ]
  },
  {
   "cell_type": "code",
   "execution_count": null,
   "metadata": {
    "slideshow": {
     "slide_type": "subslide"
    }
   },
   "outputs": [],
   "source": [
    "df.sum()"
   ]
  },
  {
   "cell_type": "code",
   "execution_count": null,
   "metadata": {
    "slideshow": {
     "slide_type": "subslide"
    }
   },
   "outputs": [],
   "source": [
    "df.describe()"
   ]
  },
  {
   "cell_type": "markdown",
   "metadata": {
    "slideshow": {
     "slide_type": "slide"
    }
   },
   "source": [
    "#### 2. 条件に当てはまる数値の合計を出したいとき【SUMIF関数】\n",
    "SUMIF関数は、範囲内で指定した条件を満たす数値の合計を求める関数です。\n",
    "= の後に SUMIF と入力し、その後の引数部分には (検索条件範囲内の最初のセル:最後のセル,検索条件のセル,合計範囲内の最初のセル:最後のセル) を入力します。\n",
    "\n",
    "例えば、A2 から A9 までの中で、A12 の項目を検索し、C2 から C9 までの中で該当する数値の合計を、B12 に入力したいときは、\n",
    "\n",
    "![](pict/SUMIF-1.png)\n",
    "\n",
    "[出典](https://techacademy.jp/magazine/9872#sec1)"
   ]
  },
  {
   "cell_type": "code",
   "execution_count": null,
   "metadata": {
    "slideshow": {
     "slide_type": "subslide"
    }
   },
   "outputs": [],
   "source": [
    "import pandas as pd\n",
    "df = pd.read_excel(\"data/SUMIF-1.xlsx\", engine='openpyxl')\n",
    "df"
   ]
  },
  {
   "cell_type": "code",
   "execution_count": null,
   "metadata": {
    "slideshow": {
     "slide_type": "subslide"
    }
   },
   "outputs": [],
   "source": [
    "df.groupby('クラス').sum()"
   ]
  },
  {
   "cell_type": "markdown",
   "metadata": {
    "slideshow": {
     "slide_type": "slide"
    }
   },
   "source": [
    "### 3. 平均値を出したいとき【AVERAGE関数】\n",
    "AVERAGE関数は、指定した範囲内の数値の平均値を求める関数です。\n",
    "= の後に AVERAGE と入力し、その後の引数部分には (範囲内の最初のセル:最後のセル) を入力します。\n",
    "\n",
    "例えば、B2 から B5 までの数値の平均値を B6 に入力したいときは、\n",
    "\n",
    "> ＝AVERAGE(B2:B5)\n",
    "\n",
    "という数式を B6 に入力します。\n",
    "\n",
    "![](pict/AVERAGE-1.png)"
   ]
  },
  {
   "cell_type": "code",
   "execution_count": null,
   "metadata": {
    "slideshow": {
     "slide_type": "subslide"
    }
   },
   "outputs": [],
   "source": [
    "import pandas as pd\n",
    "df = pd.read_excel(\"data/SUM-1.xlsx\", engine='openpyxl')\n",
    "df"
   ]
  },
  {
   "cell_type": "code",
   "execution_count": null,
   "metadata": {
    "slideshow": {
     "slide_type": "subslide"
    }
   },
   "outputs": [],
   "source": [
    "df.mean()"
   ]
  },
  {
   "cell_type": "code",
   "execution_count": null,
   "metadata": {
    "slideshow": {
     "slide_type": "subslide"
    }
   },
   "outputs": [],
   "source": [
    "df.describe()"
   ]
  },
  {
   "cell_type": "markdown",
   "metadata": {
    "slideshow": {
     "slide_type": "slide"
    }
   },
   "source": [
    "### 4. 小計やオートフィルタを用いて集計したいとき【SUBTOTAL関数】\n",
    "SUBTOTAL関数は、指定した条件を満たすセルの数値を、指定した集計方法で集計し、その集計結果を求める関数です。\n",
    "= の後に SUBTOTAL と入力し、その後の引数部分には (集計方法を表す数字,範囲内の最初のセル:最後のセル) を入力します。\n",
    "\n",
    "例えば、C2 から C10 までの数値のを平均値を C12 に入力したいときは、\n",
    "\n",
    "> ＝SUBTOTAL(1,C2:C10)\n",
    "\n",
    "という数式を C12 に入力します。\n",
    "※この場合、C6 と C11 をそれぞれ SUBTOTAL関数を用いて算出しないと、C12 は正しく反映されません。\n",
    "\n",
    "ちなみに、平均値を求めるときは 1、最大値を求めるときは 4、最小値を求めるときは 5、合計を求めるときは 9 など、集計方法を表す数字を変えることで、いろいろな集計方法に応用できます。\n",
    "\n",
    "![](pict/g)\n",
    "\n",
    "[出典](https://techacademy.jp/magazine/9872#sec3)"
   ]
  },
  {
   "cell_type": "markdown",
   "metadata": {},
   "source": [
    "### 5. 最大値を出したいとき【MAX関数】\n",
    "MAX関数は、指定した範囲内の数値の最大値を求める関数です。\n",
    "= の後に MAX と入力し、その後の引数部分には (範囲内の最初のセル:最後のセル) を入力します。\n",
    "\n",
    "例えば、B2 から B5 までの数値の最大値を B6 に入力したいときは、\n",
    "\n",
    "> ＝MAX(B2:B5)\n",
    "\n",
    "という数式を B6 に入力します。\n",
    "\n",
    "\n",
    "![](pict/MAX-1.png)\n",
    "\n",
    "[出典](https://techacademy.jp/magazine/9872#sec3)"
   ]
  },
  {
   "cell_type": "code",
   "execution_count": null,
   "metadata": {},
   "outputs": [],
   "source": [
    "import pandas as pd\n",
    "df = pd.read_excel(\"data/SUM-1.xlsx\", engine='openpyxl')\n",
    "df"
   ]
  },
  {
   "cell_type": "code",
   "execution_count": null,
   "metadata": {},
   "outputs": [],
   "source": [
    "df['点数'].max()"
   ]
  },
  {
   "cell_type": "code",
   "execution_count": null,
   "metadata": {},
   "outputs": [],
   "source": [
    "df.max()"
   ]
  },
  {
   "cell_type": "code",
   "execution_count": null,
   "metadata": {},
   "outputs": [],
   "source": [
    "df.describe()"
   ]
  },
  {
   "cell_type": "markdown",
   "metadata": {},
   "source": [
    "### 6. 最小値を出したいとき【MIN関数】\n",
    "MIN関数は、指定した範囲内の数値の最小値を求める関数です。\n",
    "= の後に MIN と入力し、その後の引数部分には (範囲内の最初のセル:最後のセル) を入力します。\n",
    "\n",
    "例えば、B2 から B5 までの数値の最小値を B6 に入力したいときは、\n",
    "\n",
    "> =MIN(B2:B5)\n",
    "\n",
    "という数式を B6 に入力します。\n",
    "\n",
    "![](pict/MIN-1.png)\n",
    "\n",
    "[出典](https://techacademy.jp/magazine/9872#sec3)"
   ]
  },
  {
   "cell_type": "code",
   "execution_count": null,
   "metadata": {},
   "outputs": [],
   "source": [
    "import pandas as pd\n",
    "df = pd.read_excel(\"data/SUM-1.xlsx\", engine='openpyxl')\n",
    "df"
   ]
  },
  {
   "cell_type": "code",
   "execution_count": null,
   "metadata": {},
   "outputs": [],
   "source": [
    "df['点数'].min()"
   ]
  },
  {
   "cell_type": "code",
   "execution_count": null,
   "metadata": {},
   "outputs": [],
   "source": [
    "df.min()"
   ]
  },
  {
   "cell_type": "code",
   "execution_count": null,
   "metadata": {},
   "outputs": [],
   "source": [
    "df.describe()"
   ]
  },
  {
   "cell_type": "markdown",
   "metadata": {},
   "source": [
    "### 7. 条件に当てはまるセルの数を数えたいとき【COUNTIF関数】\n",
    "COUNTIF関数は、指定した検索条件に該当するセルの個数を求める関数です。\n",
    "= の後に COUNTIF と入力し、その後の引数部分には (範囲内の最初のセル:最後のセル,検索条件のセル) を入力します。\n",
    "\n",
    "例えば、B2 から B5 までの中で、A8 の項目を検索し、該当するセルの個数の合計を、B8 に入力したいときは、\n",
    "\n",
    "> =COUNTIF(B2:B5,A8)\n",
    "\n",
    "という数式を B8 に入力します。\n",
    "\n",
    "![](pict/COUNTIF-1.png)\n",
    "\n",
    "[出典](https://techacademy.jp/magazine/9872#sec3)"
   ]
  },
  {
   "cell_type": "code",
   "execution_count": null,
   "metadata": {},
   "outputs": [],
   "source": [
    "import pandas as pd\n",
    "df = pd.read_excel(\"data/COUNTIF-1.xlsx\", engine='openpyxl')\n",
    "df"
   ]
  },
  {
   "cell_type": "code",
   "execution_count": null,
   "metadata": {},
   "outputs": [],
   "source": [
    "df[df['追試の有無'] == '〇'].count()"
   ]
  },
  {
   "cell_type": "code",
   "execution_count": null,
   "metadata": {},
   "outputs": [],
   "source": [
    "df[df['追試の有無'] == '×'].count()"
   ]
  },
  {
   "cell_type": "code",
   "execution_count": null,
   "metadata": {},
   "outputs": [],
   "source": [
    "df.groupby('追試の有無').count()"
   ]
  },
  {
   "cell_type": "code",
   "execution_count": null,
   "metadata": {},
   "outputs": [],
   "source": [
    "type(df)"
   ]
  },
  {
   "cell_type": "code",
   "execution_count": null,
   "metadata": {},
   "outputs": [],
   "source": [
    "type(df.groupby('追試の有無').count())"
   ]
  },
  {
   "cell_type": "markdown",
   "metadata": {},
   "source": [
    "### 8. 条件に当てはまるセルを表示させたいとき【VLOOKUP関数】\n",
    "VLOOKUP関数は、指定した範囲内で検索条件に一致した数値や文字列を表示させる関数です。\n",
    "= の後に VLOOKUP と入力し、その後の引数部分には (検索条件のセル,範囲内の最初のセル:最後のセル,列番号,検索方法の指定) を入力します。\n",
    "\n",
    "例えば、 A2 から C5 までの中で、キーワード”二郎” を検索して、2列目 の中から該当する数値を抽出して、B8 に表示させたいときは、\n",
    "\n",
    "=VLOOKUP(“二郎”,A2:C5,2,FALSE)\n",
    "\n",
    "という数式を B8 に入力します。\n",
    "\n",
    "数式の最後に出てきた FALSE ですが、これは検索値と完全に一致する値のみを検索するという指定です。\n",
    "ちなみに、検索方法の指定を TRUE にすると、検索値と一致する値がない場合、検索値に一番近い値が検索されます。\n",
    "\n",
    "![](pict/VLOOKUP-1.png)\n",
    "\n",
    "[出典](https://techacademy.jp/magazine/9872#sec3)"
   ]
  },
  {
   "cell_type": "code",
   "execution_count": null,
   "metadata": {},
   "outputs": [],
   "source": [
    "import pandas as pd\n",
    "df = pd.read_excel(\"data/VLOOKUP-1.xlsx\", engine='openpyxl')\n",
    "df"
   ]
  },
  {
   "cell_type": "code",
   "execution_count": null,
   "metadata": {},
   "outputs": [],
   "source": [
    "df[df['名前'] == \"二郎\"]"
   ]
  },
  {
   "cell_type": "code",
   "execution_count": null,
   "metadata": {},
   "outputs": [],
   "source": [
    "df[df['名前'] == \"二郎\"]['点数']"
   ]
  },
  {
   "cell_type": "markdown",
   "metadata": {},
   "source": [
    "### 9. 条件によって処理を変えたいとき【IF関数】\n",
    "IF関数は、指定した条件を満たしているかいないかに応じて、セルに表示する内容を変える関数です。\n",
    "= の後に IF と入力し、その後の引数部分には (条件式,条件を満たす場合に表示すべき内容,条件を満たさない場合に表示すべき内容) を入力します。\n",
    "\n",
    "例えば、B2 が 80より下である ときは ○、80より下でない ときは × を、C2 に表示させたいときは、\n",
    "\n",
    "> =IF(B2<80,”○”,”×”)\n",
    "\n",
    "という数式を C2 に入力します。\n",
    "\n",
    "ちなみに、80より大きいという条件は [セル]>80、80より小さいという条件は [セル]<80、80以下という条件は [セル]<=80、80と同等という条件は [セル]=80、80と等しくないという条件は [セル]<>80 で表すことができます。\n",
    "\n",
    "![](pict/IF-1.png)\n",
    "\n",
    "[出典](https://techacademy.jp/magazine/9872#sec3)"
   ]
  },
  {
   "cell_type": "code",
   "execution_count": null,
   "metadata": {
    "slideshow": {
     "slide_type": "subslide"
    }
   },
   "outputs": [],
   "source": [
    "import pandas as pd\n",
    "df = pd.read_excel(\"data/IF-1.xlsx\", engine='openpyxl')\n",
    "df"
   ]
  },
  {
   "cell_type": "markdown",
   "metadata": {
    "slideshow": {
     "slide_type": "skip"
    }
   },
   "source": [
    "[python - How to add an empty column to a dataframe? - Stack Overflow](https://stackoverflow.com/questions/16327055/how-to-add-an-empty-column-to-a-dataframe)"
   ]
  },
  {
   "cell_type": "code",
   "execution_count": null,
   "metadata": {
    "slideshow": {
     "slide_type": "subslide"
    }
   },
   "outputs": [],
   "source": [
    "df['追試の有無'] = ''\n",
    "df"
   ]
  },
  {
   "cell_type": "markdown",
   "metadata": {
    "slideshow": {
     "slide_type": "skip"
    }
   },
   "source": [
    "[Pandas/Python: Set value of one column based on value in another column - Stack Overflow](https://stackoverflow.com/questions/49161120/pandas-python-set-value-of-one-column-based-on-value-in-another-column)"
   ]
  },
  {
   "cell_type": "code",
   "execution_count": null,
   "metadata": {
    "slideshow": {
     "slide_type": "subslide"
    }
   },
   "outputs": [],
   "source": [
    "df[df['点数'] < 80]"
   ]
  },
  {
   "cell_type": "code",
   "execution_count": null,
   "metadata": {
    "slideshow": {
     "slide_type": "subslide"
    }
   },
   "outputs": [],
   "source": [
    "df.loc[df['点数'] < 80, '点数']"
   ]
  },
  {
   "cell_type": "code",
   "execution_count": null,
   "metadata": {},
   "outputs": [],
   "source": [
    "df.loc[df['点数'] < 80, '追試の有無'] = '〇'\n",
    "df"
   ]
  },
  {
   "cell_type": "code",
   "execution_count": null,
   "metadata": {},
   "outputs": [],
   "source": [
    "df.loc[df['点数'] >= 80, '追試の有無'] = '×'\n",
    "df"
   ]
  },
  {
   "cell_type": "markdown",
   "metadata": {},
   "source": [
    "### 10. 文字列を繋げたいとき【CONCATENATE関数】\n",
    "CONCATENATE関数は、指定した複数のセルに入力されている文字列を、一つの文字列に連結させる関数です。\n",
    "= の後に CONCATENATE と入力し、その後の引数部分には (連結させて最初にくる文字列のセル:最後にくる文字列のセル) を入力します。\n",
    "\n",
    "例えば、B3 の文字列の後に C3 の文字列を連結させたものを、A8 に入力したいときは、\n",
    "\n",
    "> =CONCATENATE(B3,C3)\n",
    "\n",
    "という数式を A8 に入力します。\n",
    "\n",
    "![](pict/CONCATENATE-1.png)\n",
    "\n",
    "[出典](https://techacademy.jp/magazine/9872#sec3)"
   ]
  },
  {
   "cell_type": "code",
   "execution_count": null,
   "metadata": {},
   "outputs": [],
   "source": [
    "import pandas as pd\n",
    "df = pd.read_excel(\"data/CONCATENATE-1.xlsx\", engine='openpyxl')\n",
    "df"
   ]
  },
  {
   "cell_type": "code",
   "execution_count": null,
   "metadata": {},
   "outputs": [],
   "source": [
    "df = pd.read_excel(\"data/CONCATENATE-1.xlsx\", skiprows = 1, engine='openpyxl')\n",
    "df"
   ]
  },
  {
   "cell_type": "code",
   "execution_count": null,
   "metadata": {},
   "outputs": [],
   "source": [
    "df = pd.read_excel(\"data/CONCATENATE-1.xlsx\", skiprows = 1, engine='openpyxl')[:4]\n",
    "df"
   ]
  },
  {
   "cell_type": "code",
   "execution_count": null,
   "metadata": {},
   "outputs": [],
   "source": [
    "df['姓'] + df['名']"
   ]
  },
  {
   "cell_type": "code",
   "execution_count": null,
   "metadata": {},
   "outputs": [],
   "source": [
    "df['姓名'] = df['姓'] + df['名']\n",
    "df"
   ]
  },
  {
   "cell_type": "code",
   "execution_count": null,
   "metadata": {},
   "outputs": [],
   "source": [
    "df.to_csv('data/new_file.csv', encoding='cp932')"
   ]
  },
  {
   "cell_type": "code",
   "execution_count": null,
   "metadata": {},
   "outputs": [],
   "source": [
    "dfx = pd.read_csv('data/new_file.csv', encoding='cp932').drop(columns = ['Unnamed: 0'])\n",
    "dfx"
   ]
  },
  {
   "cell_type": "code",
   "execution_count": null,
   "metadata": {},
   "outputs": [],
   "source": [
    "df.loc[0]"
   ]
  },
  {
   "cell_type": "code",
   "execution_count": null,
   "metadata": {},
   "outputs": [],
   "source": [
    "pd.DataFrame(df.loc[0])"
   ]
  },
  {
   "cell_type": "code",
   "execution_count": null,
   "metadata": {},
   "outputs": [],
   "source": [
    "pd.DataFrame(df.loc[0]).T"
   ]
  },
  {
   "cell_type": "markdown",
   "metadata": {},
   "source": [
    "1. 合計を出したいとき【sum】\n",
    "1. 条件に当てはまる数値の合計を出したいとき【条件式、sum】\n",
    "1. 平均値を出したいとき【mean】\n",
    "1. 小計やオートフィルタを用いて集計したいとき【groupby】\n",
    "1. 最大値を出したいとき【max】\n",
    "1. 最小値を出したいとき【min】\n",
    "1. 条件に当てはまるセルの数を数えたいとき【count】\n",
    "1. 条件に当てはまるセルを表示させたいとき【条件式】\n",
    "1. 条件によって処理を変えたいとき【条件式】\n",
    "1. 文字列を繋げたいとき【文字列演算】"
   ]
  }
 ],
 "metadata": {
  "celltoolbar": "Slideshow",
  "kernelspec": {
   "display_name": "Python 3",
   "language": "python",
   "name": "python3"
  },
  "language_info": {
   "codemirror_mode": {
    "name": "ipython",
    "version": 3
   },
   "file_extension": ".py",
   "mimetype": "text/x-python",
   "name": "python",
   "nbconvert_exporter": "python",
   "pygments_lexer": "ipython3",
   "version": "3.8.8"
  },
  "nteract": {
   "version": "0.28.0"
  }
 },
 "nbformat": 4,
 "nbformat_minor": 4
}
